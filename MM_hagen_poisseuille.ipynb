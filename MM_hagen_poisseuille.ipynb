{
 "metadata": {
  "name": ""
 },
 "nbformat": 3,
 "nbformat_minor": 0,
 "worksheets": [
  {
   "cells": [
    {
     "cell_type": "heading",
     "level": 2,
     "metadata": {},
     "source": [
      "Testcase for Hagen-Poisseuille macropore flow simulation"
     ]
    },
    {
     "cell_type": "code",
     "collapsed": false,
     "input": [
      "import numpy as np\n",
      "import pandas as pd\n",
      "import os,sys\n",
      "#connect echoRD Tools\n",
      "pathdir='../' #path to echoRD\n",
      "lib_path = os.path.abspath(pathdir)\n",
      "sys.path.append(lib_path)\n",
      "import vG_conv as vG\n",
      "import scipy.constants as const"
     ],
     "language": "python",
     "metadata": {},
     "outputs": [],
     "prompt_number": 6
    },
    {
     "cell_type": "code",
     "collapsed": false,
     "input": [
      "import run_echoRD as rE\n",
      "[dr,mc,mcp,pdyn,cinf,vG]=rE.loadconnect(pathdir='../',mcinif='mcini_g63',oldvers=True)\n",
      "#mc=rE.preproc_echoRD(mc, dr, mcp,'mc_dump_g63a.pickle') #re-initialise domain\n",
      "[mc,particles,npart,precTS]=rE.pickup_echoRD(mc, mcp, dr,'mc_dump_g63a.pickle')\n",
      "mc.prects='column'\n",
      "mc.colref=False\n",
      "[thS,npart]=pdyn.gridupdate_thS(particles.lat,particles.z,mc)"
     ],
     "language": "python",
     "metadata": {},
     "outputs": [
      {
       "output_type": "stream",
       "stream": "stdout",
       "text": [
        "updated mc from mc_dump_g63a.pickle\n"
       ]
      }
     ],
     "prompt_number": 5
    },
    {
     "cell_type": "code",
     "collapsed": false,
     "input": [
      "vG.carsel"
     ],
     "language": "python",
     "metadata": {},
     "outputs": [
      {
       "html": [
        "<div style=\"max-height:1000px;max-width:1500px;overflow:auto;\">\n",
        "<table border=\"1\" class=\"dataframe\">\n",
        "  <thead>\n",
        "    <tr style=\"text-align: right;\">\n",
        "      <th></th>\n",
        "      <th>Typ</th>\n",
        "      <th>Silt</th>\n",
        "      <th>Sand</th>\n",
        "      <th>Clay</th>\n",
        "      <th>thr</th>\n",
        "      <th>ths</th>\n",
        "      <th>alpha</th>\n",
        "      <th>n</th>\n",
        "      <th>ks</th>\n",
        "    </tr>\n",
        "  </thead>\n",
        "  <tbody>\n",
        "    <tr>\n",
        "      <th>1 </th>\n",
        "      <td>    C</td>\n",
        "      <td> 30</td>\n",
        "      <td> 15</td>\n",
        "      <td> 55</td>\n",
        "      <td> 0.068</td>\n",
        "      <td> 0.38</td>\n",
        "      <td>  0.8</td>\n",
        "      <td> 1.09</td>\n",
        "      <td> 5.555556e-07</td>\n",
        "    </tr>\n",
        "    <tr>\n",
        "      <th>2 </th>\n",
        "      <td>   CL</td>\n",
        "      <td> 37</td>\n",
        "      <td> 30</td>\n",
        "      <td> 33</td>\n",
        "      <td> 0.095</td>\n",
        "      <td> 0.41</td>\n",
        "      <td>  1.9</td>\n",
        "      <td> 1.31</td>\n",
        "      <td> 7.166667e-07</td>\n",
        "    </tr>\n",
        "    <tr>\n",
        "      <th>3 </th>\n",
        "      <td>    L</td>\n",
        "      <td> 40</td>\n",
        "      <td> 40</td>\n",
        "      <td> 20</td>\n",
        "      <td> 0.078</td>\n",
        "      <td> 0.43</td>\n",
        "      <td>  3.6</td>\n",
        "      <td> 1.56</td>\n",
        "      <td> 2.894444e-06</td>\n",
        "    </tr>\n",
        "    <tr>\n",
        "      <th>4 </th>\n",
        "      <td>   LS</td>\n",
        "      <td> 13</td>\n",
        "      <td> 81</td>\n",
        "      <td>  6</td>\n",
        "      <td> 0.057</td>\n",
        "      <td> 0.43</td>\n",
        "      <td> 12.4</td>\n",
        "      <td> 2.28</td>\n",
        "      <td> 4.053333e-05</td>\n",
        "    </tr>\n",
        "    <tr>\n",
        "      <th>5 </th>\n",
        "      <td>    S</td>\n",
        "      <td>  4</td>\n",
        "      <td> 93</td>\n",
        "      <td>  3</td>\n",
        "      <td> 0.045</td>\n",
        "      <td> 0.43</td>\n",
        "      <td> 14.5</td>\n",
        "      <td> 2.68</td>\n",
        "      <td> 8.250000e-05</td>\n",
        "    </tr>\n",
        "    <tr>\n",
        "      <th>6 </th>\n",
        "      <td>   SC</td>\n",
        "      <td> 11</td>\n",
        "      <td> 48</td>\n",
        "      <td> 41</td>\n",
        "      <td> 0.100</td>\n",
        "      <td> 0.38</td>\n",
        "      <td>  2.7</td>\n",
        "      <td> 1.23</td>\n",
        "      <td> 3.361111e-07</td>\n",
        "    </tr>\n",
        "    <tr>\n",
        "      <th>7 </th>\n",
        "      <td>  SCL</td>\n",
        "      <td> 19</td>\n",
        "      <td> 54</td>\n",
        "      <td> 27</td>\n",
        "      <td> 0.100</td>\n",
        "      <td> 0.39</td>\n",
        "      <td>  5.9</td>\n",
        "      <td> 1.48</td>\n",
        "      <td> 3.633333e-06</td>\n",
        "    </tr>\n",
        "    <tr>\n",
        "      <th>8 </th>\n",
        "      <td>   SI</td>\n",
        "      <td> 85</td>\n",
        "      <td>  6</td>\n",
        "      <td>  9</td>\n",
        "      <td> 0.034</td>\n",
        "      <td> 0.46</td>\n",
        "      <td>  1.6</td>\n",
        "      <td> 1.37</td>\n",
        "      <td> 6.944444e-07</td>\n",
        "    </tr>\n",
        "    <tr>\n",
        "      <th>9 </th>\n",
        "      <td>  SIC</td>\n",
        "      <td> 48</td>\n",
        "      <td>  6</td>\n",
        "      <td> 46</td>\n",
        "      <td> 0.070</td>\n",
        "      <td> 0.36</td>\n",
        "      <td>  0.5</td>\n",
        "      <td> 1.09</td>\n",
        "      <td> 5.833333e-08</td>\n",
        "    </tr>\n",
        "    <tr>\n",
        "      <th>10</th>\n",
        "      <td> SICL</td>\n",
        "      <td> 59</td>\n",
        "      <td>  8</td>\n",
        "      <td> 33</td>\n",
        "      <td> 0.089</td>\n",
        "      <td> 0.43</td>\n",
        "      <td>  1.0</td>\n",
        "      <td> 1.23</td>\n",
        "      <td> 1.972222e-07</td>\n",
        "    </tr>\n",
        "    <tr>\n",
        "      <th>11</th>\n",
        "      <td>  SIL</td>\n",
        "      <td> 65</td>\n",
        "      <td> 17</td>\n",
        "      <td> 18</td>\n",
        "      <td> 0.067</td>\n",
        "      <td> 0.45</td>\n",
        "      <td>  2.0</td>\n",
        "      <td> 1.41</td>\n",
        "      <td> 1.250000e-06</td>\n",
        "    </tr>\n",
        "    <tr>\n",
        "      <th>12</th>\n",
        "      <td>   SL</td>\n",
        "      <td> 26</td>\n",
        "      <td> 63</td>\n",
        "      <td> 11</td>\n",
        "      <td> 0.065</td>\n",
        "      <td> 0.41</td>\n",
        "      <td>  7.5</td>\n",
        "      <td> 1.89</td>\n",
        "      <td> 1.228056e-05</td>\n",
        "    </tr>\n",
        "  </tbody>\n",
        "</table>\n",
        "<p>12 rows \u00d7 9 columns</p>\n",
        "</div>"
       ],
       "metadata": {},
       "output_type": "pyout",
       "prompt_number": 7,
       "text": [
        "     Typ  Silt  Sand  Clay    thr   ths  alpha     n            ks\n",
        "1      C    30    15    55  0.068  0.38    0.8  1.09  5.555556e-07\n",
        "2     CL    37    30    33  0.095  0.41    1.9  1.31  7.166667e-07\n",
        "3      L    40    40    20  0.078  0.43    3.6  1.56  2.894444e-06\n",
        "4     LS    13    81     6  0.057  0.43   12.4  2.28  4.053333e-05\n",
        "5      S     4    93     3  0.045  0.43   14.5  2.68  8.250000e-05\n",
        "6     SC    11    48    41  0.100  0.38    2.7  1.23  3.361111e-07\n",
        "7    SCL    19    54    27  0.100  0.39    5.9  1.48  3.633333e-06\n",
        "8     SI    85     6     9  0.034  0.46    1.6  1.37  6.944444e-07\n",
        "9    SIC    48     6    46  0.070  0.36    0.5  1.09  5.833333e-08\n",
        "10  SICL    59     8    33  0.089  0.43    1.0  1.23  1.972222e-07\n",
        "11   SIL    65    17    18  0.067  0.45    2.0  1.41  1.250000e-06\n",
        "12    SL    26    63    11  0.065  0.41    7.5  1.89  1.228056e-05\n",
        "\n",
        "[12 rows x 9 columns]"
       ]
      }
     ],
     "prompt_number": 7
    },
    {
     "cell_type": "code",
     "collapsed": false,
     "input": [
      "#nicer plot colors\n",
      "tableau20 = [(31, 119, 180), (174, 199, 232), (255, 127, 14), (255, 187, 120),  \n",
      "         (44, 160, 44), (152, 223, 138), (214, 39, 40), (255, 152, 150),  \n",
      "         (148, 103, 189), (197, 176, 213), (140, 86, 75), (196, 156, 148),  \n",
      "         (227, 119, 194), (247, 182, 210), (127, 127, 127), (199, 199, 199),  \n",
      "         (188, 189, 34), (219, 219, 141), (23, 190, 207), (158, 218, 229)]  \n",
      "# Scale the RGB values to the [0, 1] range, which is the format matplotlib accepts.  \n",
      "for i in range(len(tableau20)):  \n",
      "    r, g, b = tableau20[i]  \n",
      "    tableau20[i] = (r / 255., g / 255., b / 255.)  \n"
     ],
     "language": "python",
     "metadata": {},
     "outputs": [],
     "prompt_number": 8
    },
    {
     "cell_type": "code",
     "collapsed": false,
     "input": [],
     "language": "python",
     "metadata": {},
     "outputs": [],
     "prompt_number": 8
    },
    {
     "cell_type": "code",
     "collapsed": false,
     "input": [
      "#define the macropore\n",
      "d_mac=0.01  #diameter [m]\n",
      "u_max=0.203 #maximum advective velocity [m/s], shipitalo & butt 1999\n"
     ],
     "language": "python",
     "metadata": {},
     "outputs": [],
     "prompt_number": 9
    },
    {
     "cell_type": "markdown",
     "metadata": {},
     "source": [
      "After Hagen-Poisseuille the radial velocity in a Newton fluid can be expressed with: $$u(r) = \\frac{dp}{dx} \\frac{r^2}{4\\eta}+C$$\n",
      "\n",
      "Since we can assume the shear velocity at the boundary layer interface: $$u(r_0) = 0$$ \n",
      "the integration constant becomes $$C = (-\\frac{dp}{dx})\\frac{r_0^2}{4\\eta}$$\n",
      "Thus we derive $$u(r)=(-\\frac{dp}{dx})\\frac{r_0^2}{4\\eta}(1-(\\frac{r}{r_0})^2)$$\n",
      "\n",
      "Since we know the maximum flow in the tupe center, we can write $$u_{max}=(-\\frac{dp}{dx})\\frac{r_0^2}{4\\eta}$$ which reduces our problem to:\n",
      "$$u(r) = u_{max}(1-(\\frac{r}{r_0})^2)$$"
     ]
    },
    {
     "cell_type": "code",
     "collapsed": false,
     "input": [
      "def ur_pois(r,umax,r0):\n",
      "    return umax*(1-(r/r0)**2)"
     ],
     "language": "python",
     "metadata": {},
     "outputs": [],
     "prompt_number": 10
    },
    {
     "cell_type": "code",
     "collapsed": false,
     "input": [
      "plot(ur_pois(np.arange(100)/100.*d_mac*0.5,u_max,d_mac*0.5))"
     ],
     "language": "python",
     "metadata": {},
     "outputs": [
      {
       "metadata": {},
       "output_type": "pyout",
       "prompt_number": 12,
       "text": [
        "[<matplotlib.lines.Line2D at 0x10de21e10>]"
       ]
      },
      {
       "metadata": {},
       "output_type": "display_data",
       "png": "[encoded data removed]",
       "text": [
        "<matplotlib.figure.Figure at 0x10ddc0450>"
       ]
      }
     ],
     "prompt_number": 12
    },
    {
     "cell_type": "code",
     "collapsed": false,
     "input": [],
     "language": "python",
     "metadata": {},
     "outputs": []
    }
   ],
   "metadata": {}
  }
 ]
}

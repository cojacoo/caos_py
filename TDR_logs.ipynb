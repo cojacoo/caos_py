{
 "metadata": {
  "name": ""
 },
 "nbformat": 3,
 "nbformat_minor": 0,
 "worksheets": [
  {
   "cells": [
    {
     "cell_type": "code",
     "collapsed": false,
     "input": [
      "import numpy as np\n",
      "import scipy as sp\n",
      "import matplotlib.pylab as plt\n",
      "import seaborn as sns\n",
      "import pandas as pd"
     ],
     "language": "python",
     "metadata": {},
     "outputs": [],
     "prompt_number": 1
    },
    {
     "cell_type": "code",
     "collapsed": false,
     "input": [
      "#helper for time difference\n",
      "def tdiff_hr(tdiff):\n",
      "    return tdiff.days*24.+tdiff.seconds/3600."
     ],
     "language": "python",
     "metadata": {},
     "outputs": [],
     "prompt_number": 2
    },
    {
     "cell_type": "code",
     "collapsed": false,
     "input": [
      "#read log and point locations\n",
      "posi=pd.read_csv('./TPS_data_infi062013.csv', sep='|',header=0)"
     ],
     "language": "python",
     "metadata": {},
     "outputs": [],
     "prompt_number": 3
    },
    {
     "cell_type": "code",
     "collapsed": false,
     "input": [
      "#read and prepare soil moisture measurments\n",
      "trime=pd.read_csv('./trime_data_combined.csv',header=1,sep='\\t')\n",
      "\n",
      "#prepare data\n",
      "def ftd(i):\n",
      "    return pd.to_datetime(trime.Date[i]+' '+trime.Time[i])\n",
      "vftd=np.vectorize(ftd)\n",
      "vftd(np.arange(len(trime)))\n",
      "\n",
      "trime.index = pd.to_datetime(vftd(np.arange(len(trime))))\n",
      "trime['PN']=0\n",
      "trime.loc[trime.Probe=='KIT','PN']=1\n",
      "trime.loc[trime.Probe=='GFZ','PN']=2\n",
      "trime.loc[trime.Probe=='UP','PN']=3\n",
      "\n",
      "#depth correction according to probe\n",
      "trime['RealDepth'] = np.nan\n",
      "trime.loc[trime.Probe=='KIT','RealDepth'] = trime.MeasDepth[trime.Probe=='KIT'].values + 12.\n",
      "trime.loc[trime.Probe=='GFZ','RealDepth'] = trime.MeasDepth[trime.Probe=='GFZ'].values + 8.\n",
      "trime.loc[trime.Probe=='UP','RealDepth'] = trime.MeasDepth[trime.Probe=='UP'].values + 8.\n",
      "\n",
      "#round measured depth\n",
      "trime['RoundDepth']=trime.RealDepth.round(-1)"
     ],
     "language": "python",
     "metadata": {},
     "outputs": [],
     "prompt_number": 4
    },
    {
     "cell_type": "code",
     "collapsed": false,
     "input": [
      "# get dtheta as time series at a TDR log:\n",
      "def dtrime(TDRlog,rrate='H',interp=True,reff='last'):\n",
      "    '''Separate a time series of one log from total data frame\n",
      "       TDRlog: Number of log\n",
      "       rrate: resampling rate for time series (eg. '30min')\n",
      "       interp: linear interpolatation at resampling (True/False)\n",
      "       reff: reference time for difference calculation ('first','start','last')\n",
      "    '''\n",
      "    subtrime=trime[(trime.MeasPoint==TDRlog)].copy()\n",
      "    tgroup={}\n",
      "    it=0\n",
      "    zname=subtrime['RoundDepth'].unique()\n",
      "    if reff=='last':\n",
      "        for name, group in subtrime.groupby('RoundDepth')['Moist(%)']:\n",
      "            tgroup[zname[it]]=group-group[np.argmax(group.index)]\n",
      "            it+=1\n",
      "    elif reff=='first':\n",
      "        for name, group in subtrime.groupby('RoundDepth')['Moist(%)']:\n",
      "            tgroup[zname[it]]=group-group[np.argmin([group.index])]\n",
      "            it+=1\n",
      "    elif reff=='start':\n",
      "        def tdiff_start(x):\n",
      "            return abs(tdiff_hr(x-pd.to_datetime('2013-06-21 17:11:00')))\n",
      "        for name, group in subtrime.groupby('RoundDepth')['Moist(%)']:\n",
      "            tgroup[zname[it]]=group-group[group.index.map(lambda x:tdiff_start(x)).argmin()]\n",
      "            it+=1\n",
      "    \n",
      "    if interp==False:\n",
      "        df=pd.DataFrame(tgroup[zname[0]].resample(rrate, how='min'))\n",
      "        for i in np.arange(len(zname))[1:]:\n",
      "            df2=pd.DataFrame(tgroup[zname[i]].resample(rrate, how='min'))\n",
      "            df=pd.concat([df,df2], join='inner', axis = 1)\n",
      "        df=df.max(axis=1,skipna=True)\n",
      "        df=df[-isnan(df)]\n",
      "    else:\n",
      "        df=pd.DataFrame(tgroup[zname[0]].resample(rrate, how='min').interpolate())\n",
      "        for i in np.arange(len(zname))[1:]:\n",
      "            df2=pd.DataFrame(tgroup[zname[i]].resample(rrate, how='min').interpolate())\n",
      "            df=pd.concat([df,df2], join='inner', axis = 1)\n",
      "        df.columns=zname\n",
      "    return df"
     ],
     "language": "python",
     "metadata": {},
     "outputs": [],
     "prompt_number": 5
    },
    {
     "cell_type": "code",
     "collapsed": false,
     "input": [
      "#plot time-lapse TDR\n",
      "def TDR_tl_contour(TDRtube,t_span,rrate='30min',reff='last',smooth=False,sclfc=4):\n",
      "    tube=['T'+str(TDRtube),'t'+str(TDRtube)]\n",
      "    dTDR=dtrime(tube[1],rrate,True,reff)\n",
      "    \n",
      "    #cut after end of GPR:\n",
      "    tindx=dTDR.index[::sclfc*2].hour\n",
      "    dTDR=dTDR[dTDR.index<t_span[1]]\n",
      "    ts_hr=tdiff_hr(dTDR.index.max()-dTDR.index.min())\n",
      "    GPR_tshift=tdiff_hr(t_span[0]-dTDR.index.min())    \n",
      "    tindx+=GPR_tshift\n",
      "    tindx[tindx<1]=24+tindx[tindx<1]\n",
      "    \n",
      "    ir_time=[pd.to_datetime('2013-06-21 17:11:00'),pd.to_datetime('2013-06-21 21:33:00')]\t# irrigation time\n",
      "\n",
      "    with sns.axes_style(\"white\"):\n",
      "        if smooth:\n",
      "            imshow(dTDR.T,extent=[0,ts_hr/sclfc,-dTDR.columns[-1]/100.,-dTDR.columns[0]/100.],vmin=2.,vmax=15.)\n",
      "        else:\n",
      "            imshow(dTDR.T,extent=[0,ts_hr/sclfc,-dTDR.columns[-1]/100.,-dTDR.columns[0]/100.],vmin=2.,vmax=15.,interpolation='none')\n",
      "        sns.despine(offset=5, trim=False)\n",
      "        \n",
      "        #plot sprinkling period\n",
      "        #plt.plot((-1,-1),(-1,-1))\n",
      "        plt.plot((((ir_time[0]-t_span[0]).seconds/3600.)/sclfc+GPR_tshift/sclfc, ((ir_time[0]-t_span[0]).seconds/3600.)/sclfc+GPR_tshift/sclfc), (-1.98, 0),  c='#EF5F3A', lw=1) \n",
      "        plt.plot((((ir_time[1]-t_span[0]).seconds/3600.)/sclfc+GPR_tshift/sclfc, ((ir_time[1]-t_span[0]).seconds/3600.)/sclfc+GPR_tshift/sclfc), (-1.98, 0),  c='#EF5F3A', lw=1) \n",
      "        text(((ir_time[0]-t_span[0]).seconds/3600.)/sclfc+GPR_tshift/sclfc, 0.1,'sprinkling',color='#EF5F3A',horizontalalignment='left')\n",
      "        \n",
      "        #plot actual TDR sampling times\n",
      "        TDRsmp=dtrime(tube[1],'40min',False,reff).index\n",
      "        for smp_time in TDRsmp:\n",
      "            plt.plot((((smp_time-t_span[0]).seconds/3600.)/sclfc+GPR_tshift/sclfc, ((smp_time-t_span[0]).seconds/3600.)/sclfc+GPR_tshift/sclfc), (-1.98, 0),  c='#47CEF7', lw=0.5) \n",
      "        text(((smp_time-t_span[0]).seconds/3600.)/sclfc+GPR_tshift/sclfc, 0.1,'TDR measurements',color='#47CEF7',horizontalalignment='right')\n",
      "        \n",
      "        plt.yticks([0.0,-0.5,-1.0,-1.5,-2.0])\n",
      "        plt.xticks(np.arange(GPR_tshift/sclfc,ts_hr/sclfc),tindx)\n",
      "        sns.axlabel('time [h]','depth [m]')\n",
      "        "
     ],
     "language": "python",
     "metadata": {},
     "outputs": [],
     "prompt_number": 6
    },
    {
     "cell_type": "code",
     "collapsed": false,
     "input": [
      "fig=plt.figure(figsize=(15,3.5))\n",
      "TDR_tl_contour(2,[pd.to_datetime('2013-06-21 15:00:00'),pd.to_datetime('2013-06-22 15:00:00')],smooth=True,reff='first')\n",
      "cbar=colorbar()\n",
      "cbar.ax.set_ylabel('d(Theta) [%]')\n",
      "savefig('TDR11_TL.pdf')"
     ],
     "language": "python",
     "metadata": {},
     "outputs": [
      {
       "metadata": {},
       "output_type": "display_data",
       "png": "[encoded data removed]",
       "text": [
        "<matplotlib.figure.Figure at 0x108a2d890>"
       ]
      }
     ],
     "prompt_number": 7
    },
    {
     "cell_type": "code",
     "collapsed": false,
     "input": [],
     "language": "python",
     "metadata": {},
     "outputs": [],
     "prompt_number": 7
    }
   ],
   "metadata": {}
  }
 ]
}
